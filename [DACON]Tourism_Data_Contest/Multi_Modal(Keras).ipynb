{
 "cells": [
  {
   "cell_type": "markdown",
   "id": "025b6392",
   "metadata": {},
   "source": [
    "## * Tensorflow GPU 확인"
   ]
  },
  {
   "cell_type": "code",
   "execution_count": 1,
   "id": "e201ff28",
   "metadata": {},
   "outputs": [
    {
     "name": "stdout",
     "output_type": "stream",
     "text": [
      "[name: \"/device:CPU:0\"\n",
      "device_type: \"CPU\"\n",
      "memory_limit: 268435456\n",
      "locality {\n",
      "}\n",
      "incarnation: 7223906648966125011\n",
      ", name: \"/device:GPU:0\"\n",
      "device_type: \"GPU\"\n",
      "memory_limit: 10084089856\n",
      "locality {\n",
      "  bus_id: 1\n",
      "  links {\n",
      "  }\n",
      "}\n",
      "incarnation: 15994566812651405081\n",
      "physical_device_desc: \"device: 0, name: NVIDIA GeForce RTX 3060, pci bus id: 0000:01:00.0, compute capability: 8.6\"\n",
      "]\n"
     ]
    }
   ],
   "source": [
    "import tensorflow as tf\n",
    "from tensorflow.python.client import device_lib\n",
    "tf.__version__\n",
    "print(device_lib.list_local_devices())"
   ]
  },
  {
   "cell_type": "markdown",
   "id": "4e202638",
   "metadata": {},
   "source": [
    "## 1. 패키지 로드"
   ]
  },
  {
   "cell_type": "code",
   "execution_count": 23,
   "id": "b72c113a",
   "metadata": {},
   "outputs": [],
   "source": [
    "import pandas as pd\n",
    "import numpy as np\n",
    "import matplotlib.pyplot as plt\n",
    "import cv2\n",
    "\n",
    "from tensorflow.keras.layers import Input, Dense\n",
    "from tensorflow.keras.models import Model\n",
    "from keras.layers.merge import concatenate\n",
    "from konlpy.tag import Mecab\n",
    "from sklearn.model_selection import train_test_split\n",
    "from matplotlib import font_manager, rc\n",
    "from tensorflow.keras.preprocessing.text import Tokenizer\n",
    "from tensorflow.keras.preprocessing.sequence import pad_sequences\n",
    "from collections import Counter"
   ]
  },
  {
   "cell_type": "code",
   "execution_count": 3,
   "id": "cf4f5af0",
   "metadata": {},
   "outputs": [],
   "source": [
    "# 폰트 설정\n",
    "font_name = font_manager.FontProperties(fname=\"c:/Windows/Fonts/malgun.ttf\").get_name()\n",
    "rc('font', family=font_name)"
   ]
  },
  {
   "cell_type": "markdown",
   "id": "dcefb6c9",
   "metadata": {},
   "source": [
    "## 2. 데이터 로드"
   ]
  },
  {
   "cell_type": "code",
   "execution_count": 4,
   "id": "144c5913",
   "metadata": {},
   "outputs": [
    {
     "data": {
      "text/html": [
       "<div>\n",
       "<style scoped>\n",
       "    .dataframe tbody tr th:only-of-type {\n",
       "        vertical-align: middle;\n",
       "    }\n",
       "\n",
       "    .dataframe tbody tr th {\n",
       "        vertical-align: top;\n",
       "    }\n",
       "\n",
       "    .dataframe thead th {\n",
       "        text-align: right;\n",
       "    }\n",
       "</style>\n",
       "<table border=\"1\" class=\"dataframe\">\n",
       "  <thead>\n",
       "    <tr style=\"text-align: right;\">\n",
       "      <th></th>\n",
       "      <th>id</th>\n",
       "      <th>img_path</th>\n",
       "      <th>overview</th>\n",
       "      <th>cat1</th>\n",
       "      <th>cat2</th>\n",
       "      <th>cat3</th>\n",
       "    </tr>\n",
       "  </thead>\n",
       "  <tbody>\n",
       "    <tr>\n",
       "      <th>0</th>\n",
       "      <td>TRAIN_00000</td>\n",
       "      <td>./image/train/TRAIN_00000.jpg</td>\n",
       "      <td>소안항은 조용한 섬으로 인근해안이 청정해역으로 일찍이 김 양식을 해서 높은 소득을 ...</td>\n",
       "      <td>자연</td>\n",
       "      <td>자연관광지</td>\n",
       "      <td>항구/포구</td>\n",
       "    </tr>\n",
       "    <tr>\n",
       "      <th>1</th>\n",
       "      <td>TRAIN_00001</td>\n",
       "      <td>./image/train/TRAIN_00001.jpg</td>\n",
       "      <td>경기도 이천시 모가면에 있는 골프장으로 대중제 18홀이다. 회원제로 개장을 했다가 ...</td>\n",
       "      <td>레포츠</td>\n",
       "      <td>육상 레포츠</td>\n",
       "      <td>골프</td>\n",
       "    </tr>\n",
       "    <tr>\n",
       "      <th>2</th>\n",
       "      <td>TRAIN_00002</td>\n",
       "      <td>./image/train/TRAIN_00002.jpg</td>\n",
       "      <td>금오산성숯불갈비는 한우고기만을 전문적으로 취급하고 사용하는 부식 자재 또한 유기농법...</td>\n",
       "      <td>음식</td>\n",
       "      <td>음식점</td>\n",
       "      <td>한식</td>\n",
       "    </tr>\n",
       "    <tr>\n",
       "      <th>3</th>\n",
       "      <td>TRAIN_00003</td>\n",
       "      <td>./image/train/TRAIN_00003.jpg</td>\n",
       "      <td>철판 위에서 요리하는 안동찜닭을 맛볼 수 있는 곳이다. 경상북도 안동시에 있는 한식...</td>\n",
       "      <td>음식</td>\n",
       "      <td>음식점</td>\n",
       "      <td>한식</td>\n",
       "    </tr>\n",
       "    <tr>\n",
       "      <th>4</th>\n",
       "      <td>TRAIN_00004</td>\n",
       "      <td>./image/train/TRAIN_00004.jpg</td>\n",
       "      <td>※ 영업시간 10:30 ~ 20:30\\n\\n3대에 걸쳐 아귀만을 전문으로 취급하는 ...</td>\n",
       "      <td>음식</td>\n",
       "      <td>음식점</td>\n",
       "      <td>한식</td>\n",
       "    </tr>\n",
       "  </tbody>\n",
       "</table>\n",
       "</div>"
      ],
      "text/plain": [
       "            id                       img_path  \\\n",
       "0  TRAIN_00000  ./image/train/TRAIN_00000.jpg   \n",
       "1  TRAIN_00001  ./image/train/TRAIN_00001.jpg   \n",
       "2  TRAIN_00002  ./image/train/TRAIN_00002.jpg   \n",
       "3  TRAIN_00003  ./image/train/TRAIN_00003.jpg   \n",
       "4  TRAIN_00004  ./image/train/TRAIN_00004.jpg   \n",
       "\n",
       "                                            overview cat1    cat2   cat3  \n",
       "0  소안항은 조용한 섬으로 인근해안이 청정해역으로 일찍이 김 양식을 해서 높은 소득을 ...   자연   자연관광지  항구/포구  \n",
       "1  경기도 이천시 모가면에 있는 골프장으로 대중제 18홀이다. 회원제로 개장을 했다가 ...  레포츠  육상 레포츠     골프  \n",
       "2  금오산성숯불갈비는 한우고기만을 전문적으로 취급하고 사용하는 부식 자재 또한 유기농법...   음식     음식점     한식  \n",
       "3  철판 위에서 요리하는 안동찜닭을 맛볼 수 있는 곳이다. 경상북도 안동시에 있는 한식...   음식     음식점     한식  \n",
       "4  ※ 영업시간 10:30 ~ 20:30\\n\\n3대에 걸쳐 아귀만을 전문으로 취급하는 ...   음식     음식점     한식  "
      ]
     },
     "execution_count": 4,
     "metadata": {},
     "output_type": "execute_result"
    }
   ],
   "source": [
    "train_df = pd.read_csv(\"./train.csv\")\n",
    "train_df.head()"
   ]
  },
  {
   "cell_type": "code",
   "execution_count": 5,
   "id": "8887dd1d",
   "metadata": {},
   "outputs": [
    {
     "data": {
      "text/html": [
       "<div>\n",
       "<style scoped>\n",
       "    .dataframe tbody tr th:only-of-type {\n",
       "        vertical-align: middle;\n",
       "    }\n",
       "\n",
       "    .dataframe tbody tr th {\n",
       "        vertical-align: top;\n",
       "    }\n",
       "\n",
       "    .dataframe thead th {\n",
       "        text-align: right;\n",
       "    }\n",
       "</style>\n",
       "<table border=\"1\" class=\"dataframe\">\n",
       "  <thead>\n",
       "    <tr style=\"text-align: right;\">\n",
       "      <th></th>\n",
       "      <th>id</th>\n",
       "      <th>img_path</th>\n",
       "      <th>overview</th>\n",
       "    </tr>\n",
       "  </thead>\n",
       "  <tbody>\n",
       "    <tr>\n",
       "      <th>0</th>\n",
       "      <td>TEST_00000</td>\n",
       "      <td>./image/test/TEST_00000.jpg</td>\n",
       "      <td>신선한 재료로 정성을 다해 만들었다. 늘 변함없는 맛과 서비스로 모실것을 약속한다.</td>\n",
       "    </tr>\n",
       "    <tr>\n",
       "      <th>1</th>\n",
       "      <td>TEST_00001</td>\n",
       "      <td>./image/test/TEST_00001.jpg</td>\n",
       "      <td>청청한 해역 등량만과 율포해수욕장이 한눈에 내려다 보이는 위치에 있으며, 막 잡은 ...</td>\n",
       "    </tr>\n",
       "    <tr>\n",
       "      <th>2</th>\n",
       "      <td>TEST_00002</td>\n",
       "      <td>./image/test/TEST_00002.jpg</td>\n",
       "      <td>장터설렁탕은 남녀노소 누구나 즐길 수 있는 전통 건강식으로 좋은 재료와 전통 조리방...</td>\n",
       "    </tr>\n",
       "    <tr>\n",
       "      <th>3</th>\n",
       "      <td>TEST_00003</td>\n",
       "      <td>./image/test/TEST_00003.jpg</td>\n",
       "      <td>다양한 형태의 청소년수련활동을 제공함으로써 청소년들이 민주사회의 주역이 될 수 있도...</td>\n",
       "    </tr>\n",
       "    <tr>\n",
       "      <th>4</th>\n",
       "      <td>TEST_00004</td>\n",
       "      <td>./image/test/TEST_00004.jpg</td>\n",
       "      <td>팔공산은 경산시의 북쪽에 위치한 해발 1192.3 m의 높은 산으로 신라시대에는 중...</td>\n",
       "    </tr>\n",
       "  </tbody>\n",
       "</table>\n",
       "</div>"
      ],
      "text/plain": [
       "           id                     img_path  \\\n",
       "0  TEST_00000  ./image/test/TEST_00000.jpg   \n",
       "1  TEST_00001  ./image/test/TEST_00001.jpg   \n",
       "2  TEST_00002  ./image/test/TEST_00002.jpg   \n",
       "3  TEST_00003  ./image/test/TEST_00003.jpg   \n",
       "4  TEST_00004  ./image/test/TEST_00004.jpg   \n",
       "\n",
       "                                            overview  \n",
       "0     신선한 재료로 정성을 다해 만들었다. 늘 변함없는 맛과 서비스로 모실것을 약속한다.  \n",
       "1  청청한 해역 등량만과 율포해수욕장이 한눈에 내려다 보이는 위치에 있으며, 막 잡은 ...  \n",
       "2  장터설렁탕은 남녀노소 누구나 즐길 수 있는 전통 건강식으로 좋은 재료와 전통 조리방...  \n",
       "3  다양한 형태의 청소년수련활동을 제공함으로써 청소년들이 민주사회의 주역이 될 수 있도...  \n",
       "4  팔공산은 경산시의 북쪽에 위치한 해발 1192.3 m의 높은 산으로 신라시대에는 중...  "
      ]
     },
     "execution_count": 5,
     "metadata": {},
     "output_type": "execute_result"
    }
   ],
   "source": [
    "test_df = pd.read_csv(\"./test.csv\")\n",
    "test_df.head()"
   ]
  },
  {
   "cell_type": "markdown",
   "id": "622391ea",
   "metadata": {},
   "source": [
    "- 문제 : image와 overview를 이용하여 cat3를 예측하는 문제"
   ]
  },
  {
   "cell_type": "markdown",
   "id": "092b4a6c",
   "metadata": {},
   "source": [
    "## 3. 데이터 분석"
   ]
  },
  {
   "cell_type": "markdown",
   "id": "5272a720",
   "metadata": {},
   "source": [
    "### 1) Data Summary 확인"
   ]
  },
  {
   "cell_type": "code",
   "execution_count": 6,
   "id": "00d09189",
   "metadata": {},
   "outputs": [
    {
     "name": "stdout",
     "output_type": "stream",
     "text": [
      "<class 'pandas.core.frame.DataFrame'>\n",
      "RangeIndex: 16986 entries, 0 to 16985\n",
      "Data columns (total 6 columns):\n",
      " #   Column    Non-Null Count  Dtype \n",
      "---  ------    --------------  ----- \n",
      " 0   id        16986 non-null  object\n",
      " 1   img_path  16986 non-null  object\n",
      " 2   overview  16986 non-null  object\n",
      " 3   cat1      16986 non-null  object\n",
      " 4   cat2      16986 non-null  object\n",
      " 5   cat3      16986 non-null  object\n",
      "dtypes: object(6)\n",
      "memory usage: 796.3+ KB\n"
     ]
    }
   ],
   "source": [
    "train_df.info()"
   ]
  },
  {
   "cell_type": "markdown",
   "id": "2b94077d",
   "metadata": {},
   "source": [
    "- 총 16986개의 Data, Null값이 없다."
   ]
  },
  {
   "cell_type": "markdown",
   "id": "c639d44e",
   "metadata": {},
   "source": [
    "### 2) 분류 항목 확인"
   ]
  },
  {
   "cell_type": "code",
   "execution_count": 7,
   "id": "8f539adf",
   "metadata": {},
   "outputs": [
    {
     "data": {
      "text/plain": [
       "array(['항구/포구', '골프', '한식', '야영장,오토캠핑장', '섬', '일반축제', '유적지/사적지', '일식',\n",
       "       '자연휴양림', '전시관', '관광단지', '모텔', '스키(보드) 렌탈샵', '바/까페', '채식전문점',\n",
       "       '한옥스테이', '컨벤션', '성', '중식', '안보관광', '전문상가', '이색거리', '해수욕장', '5일장',\n",
       "       '미술관/화랑', '공원', '상설시장', '박물관', '도서관', '공연장', '농.산.어촌 체험', '복합 레포츠',\n",
       "       '펜션', '산', '기념탑/기념비/전망대', '기념관', '자동차경주', '자전거하이킹', '희귀동.식물',\n",
       "       '유명건물', '수목원', '유원지', '사찰', '강', '자연생태관광지', '박람회', '문화전수시설', '계곡',\n",
       "       '폭포', '서양식', '종교성지', '동상', '기타행사', '고택', '국립공원', '게스트하우스', '썰매장',\n",
       "       '요트', '문화원', '래프팅', '승마', '공예,공방', '트래킹', '온천/욕장/스파', '수련시설',\n",
       "       '해안절경', '패밀리레스토랑', '기암괴석', '기타', '홈스테이', '민물낚시', '콘도미니엄', '민박',\n",
       "       '테마공원', '유람선/잠수함관광', '바다낚시', '수영', '백화점', '호수', '카약/카누', '외국문화원',\n",
       "       '면세점', '다리/대교', '카지노', '분수', '동굴', '도립공원', '윈드서핑/제트스키', '특산물판매점',\n",
       "       '유스호스텔', '고궁', '서비스드레지던스', '민속마을', '전통공연', '문', '식음료', '번지점프',\n",
       "       '터널', '문화관광축제', '카트', '클럽', '발전소', '대중콘서트', 'MTB', '군립공원', '스케이트',\n",
       "       '대형서점', '생가', '스카이다이빙', '영화관', '헹글라이딩/패러글라이딩', '스노쿨링/스킨스쿠버다이빙',\n",
       "       '약수터', '인라인(실내 인라인 포함)', '이색찜질방', '학교', '헬스투어', '등대', '사격장', 'ATV',\n",
       "       '빙벽등반', '수상레포츠', '연극', '컨벤션센터', '스키/스노보드', '뮤지컬', '이색체험', '클래식음악회'],\n",
       "      dtype=object)"
      ]
     },
     "execution_count": 7,
     "metadata": {},
     "output_type": "execute_result"
    }
   ],
   "source": [
    "# 1, 분류 항목 종류 확인\n",
    "train_df['cat3'].unique()"
   ]
  },
  {
   "cell_type": "code",
   "execution_count": 8,
   "id": "668a19d0",
   "metadata": {},
   "outputs": [
    {
     "name": "stdout",
     "output_type": "stream",
     "text": [
      "train data cat3의 총 분류 항목은 128개 입니다.\n"
     ]
    }
   ],
   "source": [
    "# 2. 분류 항목 갯수 확인\n",
    "print(f\"train data cat3의 총 분류 항목은 {len(train_df['cat3'].unique())}개 입니다.\")"
   ]
  },
  {
   "cell_type": "code",
   "execution_count": 9,
   "id": "dcd8b34c",
   "metadata": {
    "scrolled": true
   },
   "outputs": [
    {
     "data": {
      "text/plain": [
       "한식                3438\n",
       "야영장,오토캠핑장         1558\n",
       "바/까페               785\n",
       "유적지/사적지            622\n",
       "일반축제               549\n",
       "                  ... \n",
       "MTB                  2\n",
       "대중콘서트                2\n",
       "인라인(실내 인라인 포함)       2\n",
       "스카이다이빙               2\n",
       "클래식음악회               2\n",
       "Name: cat3, Length: 128, dtype: int64"
      ]
     },
     "execution_count": 9,
     "metadata": {},
     "output_type": "execute_result"
    }
   ],
   "source": [
    "# 3. 분류 항목별 Count 확인\n",
    "train_df['cat3'].value_counts()"
   ]
  },
  {
   "cell_type": "code",
   "execution_count": 10,
   "id": "fd4f4eda",
   "metadata": {},
   "outputs": [
    {
     "name": "stdout",
     "output_type": "stream",
     "text": [
      "             cat3  count\n",
      "0             5일장    165\n",
      "1             ATV      4\n",
      "2             MTB      2\n",
      "3               강    104\n",
      "4          게스트하우스     83\n",
      "..            ...    ...\n",
      "123          헬스투어     15\n",
      "124  헹글라이딩/패러글라이딩      9\n",
      "125            호수     30\n",
      "126          홈스테이     57\n",
      "127        희귀동.식물     88\n",
      "\n",
      "[128 rows x 2 columns]\n"
     ]
    },
    {
     "data": {
      "image/png": "[encoded data removed]",
      "text/plain": [
       "<Figure size 640x480 with 1 Axes>"
      ]
     },
     "metadata": {},
     "output_type": "display_data"
    }
   ],
   "source": [
    "# 4. 불균형 확인을 위한 시각화\n",
    "train_df['cat3'].value_counts().plot(kind = 'bar')\n",
    "print(train_df.groupby('cat3').size().reset_index(name = 'count'))"
   ]
  },
  {
   "cell_type": "markdown",
   "id": "fb4abd4c",
   "metadata": {},
   "source": [
    "- 항목별 개수가 비대칭이므로 학습 데이터와 테스트 데이터를 나눌 때 유의해야한다."
   ]
  },
  {
   "cell_type": "markdown",
   "id": "460e0d10",
   "metadata": {},
   "source": [
    "### 3) Overview 길이 분포 및 최솟값, 최댓값 확인"
   ]
  },
  {
   "cell_type": "code",
   "execution_count": 11,
   "id": "6a43faff",
   "metadata": {},
   "outputs": [],
   "source": [
    "# 1. overview의 길이로 새로운 columns 생성\n",
    "train_df['overview_len'] = train_df['overview'].apply(lambda x : len(x))"
   ]
  },
  {
   "cell_type": "code",
   "execution_count": 39,
   "id": "ca7ae24a",
   "metadata": {},
   "outputs": [
    {
     "data": {
      "text/plain": [
       "(7, 7972, 274.0)"
      ]
     },
     "execution_count": 39,
     "metadata": {},
     "output_type": "execute_result"
    }
   ],
   "source": [
    "# 2. overview_len의 최솟값, 최댓값 확인\n",
    "train_df['overview_len'].min(), train_df['overview_len'].max(), train_df['overview_len'].median()"
   ]
  },
  {
   "cell_type": "code",
   "execution_count": 13,
   "id": "2132f02d",
   "metadata": {},
   "outputs": [
    {
     "data": {
      "text/plain": [
       "3030    홈페이지 참조\n",
       "Name: overview, dtype: object"
      ]
     },
     "execution_count": 13,
     "metadata": {},
     "output_type": "execute_result"
    }
   ],
   "source": [
    "# 3. overview_len의 최솟값 확인\n",
    "train_df[train_df['overview_len'] == 7]['overview'] # 길이가 가장 짧은 overview"
   ]
  },
  {
   "cell_type": "code",
   "execution_count": 14,
   "id": "55d99b9e",
   "metadata": {},
   "outputs": [
    {
     "data": {
      "text/plain": [
       "1399    우리나라 3대 사찰의 하나로 신라 애장왕 3년(802)에 순응, 이정 두 스님이 창...\n",
       "Name: overview, dtype: object"
      ]
     },
     "execution_count": 14,
     "metadata": {},
     "output_type": "execute_result"
    }
   ],
   "source": [
    "# 4. overview_len의 최댓값 확인\n",
    "train_df[train_df['overview_len'] == 7972]['overview'] # 길이가 가장 긴 overview"
   ]
  },
  {
   "cell_type": "code",
   "execution_count": 15,
   "id": "111e55ff",
   "metadata": {},
   "outputs": [
    {
     "data": {
      "image/png": "[encoded data removed]",
      "text/plain": [
       "<Figure size 640x480 with 1 Axes>"
      ]
     },
     "metadata": {},
     "output_type": "display_data"
    }
   ],
   "source": [
    "# 5. overview의 길이 분포 확인\n",
    "plt.hist(train_df['overview_len'], bins=500)\n",
    "plt.show()"
   ]
  },
  {
   "cell_type": "code",
   "execution_count": 16,
   "id": "82d27d28",
   "metadata": {
    "scrolled": true
   },
   "outputs": [
    {
     "data": {
      "text/html": [
       "<div>\n",
       "<style scoped>\n",
       "    .dataframe tbody tr th:only-of-type {\n",
       "        vertical-align: middle;\n",
       "    }\n",
       "\n",
       "    .dataframe tbody tr th {\n",
       "        vertical-align: top;\n",
       "    }\n",
       "\n",
       "    .dataframe thead th {\n",
       "        text-align: right;\n",
       "    }\n",
       "</style>\n",
       "<table border=\"1\" class=\"dataframe\">\n",
       "  <thead>\n",
       "    <tr style=\"text-align: right;\">\n",
       "      <th></th>\n",
       "      <th>id</th>\n",
       "      <th>img_path</th>\n",
       "      <th>overview</th>\n",
       "      <th>cat1</th>\n",
       "      <th>cat2</th>\n",
       "      <th>cat3</th>\n",
       "      <th>overview_len</th>\n",
       "    </tr>\n",
       "  </thead>\n",
       "  <tbody>\n",
       "    <tr>\n",
       "      <th>3030</th>\n",
       "      <td>TRAIN_03030</td>\n",
       "      <td>./image/train/TRAIN_03030.jpg</td>\n",
       "      <td>홈페이지 참조</td>\n",
       "      <td>인문(문화/예술/역사)</td>\n",
       "      <td>공연/행사</td>\n",
       "      <td>기타행사</td>\n",
       "      <td>7</td>\n",
       "    </tr>\n",
       "    <tr>\n",
       "      <th>12570</th>\n",
       "      <td>TRAIN_12570</td>\n",
       "      <td>./image/train/TRAIN_12570.jpg</td>\n",
       "      <td>양구에 위치한 민박이다.</td>\n",
       "      <td>숙박</td>\n",
       "      <td>숙박시설</td>\n",
       "      <td>펜션</td>\n",
       "      <td>13</td>\n",
       "    </tr>\n",
       "    <tr>\n",
       "      <th>11168</th>\n",
       "      <td>TRAIN_11168</td>\n",
       "      <td>./image/train/TRAIN_11168.jpg</td>\n",
       "      <td>역사의 깊이가 있는 고택이다.</td>\n",
       "      <td>숙박</td>\n",
       "      <td>숙박시설</td>\n",
       "      <td>홈스테이</td>\n",
       "      <td>16</td>\n",
       "    </tr>\n",
       "    <tr>\n",
       "      <th>14695</th>\n",
       "      <td>TRAIN_14695</td>\n",
       "      <td>./image/train/TRAIN_14695.jpg</td>\n",
       "      <td>쫄면이 맛있는 분식 전문점이다.</td>\n",
       "      <td>음식</td>\n",
       "      <td>음식점</td>\n",
       "      <td>한식</td>\n",
       "      <td>17</td>\n",
       "    </tr>\n",
       "    <tr>\n",
       "      <th>15531</th>\n",
       "      <td>TRAIN_15531</td>\n",
       "      <td>./image/train/TRAIN_15531.jpg</td>\n",
       "      <td>크리스마스 트리니팅, 빛의 거리 조성</td>\n",
       "      <td>인문(문화/예술/역사)</td>\n",
       "      <td>공연/행사</td>\n",
       "      <td>기타행사</td>\n",
       "      <td>20</td>\n",
       "    </tr>\n",
       "    <tr>\n",
       "      <th>5390</th>\n",
       "      <td>TRAIN_05390</td>\n",
       "      <td>./image/train/TRAIN_05390.jpg</td>\n",
       "      <td>푸른자연과 함께하는 한적한 가족캠핑장</td>\n",
       "      <td>레포츠</td>\n",
       "      <td>육상 레포츠</td>\n",
       "      <td>야영장,오토캠핑장</td>\n",
       "      <td>20</td>\n",
       "    </tr>\n",
       "    <tr>\n",
       "      <th>13388</th>\n",
       "      <td>TRAIN_13388</td>\n",
       "      <td>./image/train/TRAIN_13388.jpg</td>\n",
       "      <td>안동 시내에 위치한 한정식 전문점이다.</td>\n",
       "      <td>음식</td>\n",
       "      <td>음식점</td>\n",
       "      <td>한식</td>\n",
       "      <td>21</td>\n",
       "    </tr>\n",
       "    <tr>\n",
       "      <th>3387</th>\n",
       "      <td>TRAIN_03387</td>\n",
       "      <td>./image/train/TRAIN_03387.jpg</td>\n",
       "      <td>산모랭이펜션은 진부면에 위치하고 있다.</td>\n",
       "      <td>숙박</td>\n",
       "      <td>숙박시설</td>\n",
       "      <td>펜션</td>\n",
       "      <td>21</td>\n",
       "    </tr>\n",
       "    <tr>\n",
       "      <th>10378</th>\n",
       "      <td>TRAIN_10378</td>\n",
       "      <td>./image/train/TRAIN_10378.jpg</td>\n",
       "      <td>파주시와 함께하는 2021경기건축문화제</td>\n",
       "      <td>인문(문화/예술/역사)</td>\n",
       "      <td>축제</td>\n",
       "      <td>일반축제</td>\n",
       "      <td>21</td>\n",
       "    </tr>\n",
       "    <tr>\n",
       "      <th>14507</th>\n",
       "      <td>TRAIN_14507</td>\n",
       "      <td>./image/train/TRAIN_14507.jpg</td>\n",
       "      <td>다양한 쟝르 청년 예술인들의 공연 축제</td>\n",
       "      <td>인문(문화/예술/역사)</td>\n",
       "      <td>축제</td>\n",
       "      <td>일반축제</td>\n",
       "      <td>21</td>\n",
       "    </tr>\n",
       "    <tr>\n",
       "      <th>6602</th>\n",
       "      <td>TRAIN_06602</td>\n",
       "      <td>./image/train/TRAIN_06602.jpg</td>\n",
       "      <td>전주 한옥마을에 있는 전통 숙박업소이다.</td>\n",
       "      <td>숙박</td>\n",
       "      <td>숙박시설</td>\n",
       "      <td>홈스테이</td>\n",
       "      <td>22</td>\n",
       "    </tr>\n",
       "    <tr>\n",
       "      <th>7659</th>\n",
       "      <td>TRAIN_07659</td>\n",
       "      <td>./image/train/TRAIN_07659.jpg</td>\n",
       "      <td>개별 온수 수영장이 있는 한옥 펜션이다.</td>\n",
       "      <td>숙박</td>\n",
       "      <td>숙박시설</td>\n",
       "      <td>홈스테이</td>\n",
       "      <td>22</td>\n",
       "    </tr>\n",
       "    <tr>\n",
       "      <th>9139</th>\n",
       "      <td>TRAIN_09139</td>\n",
       "      <td>./image/train/TRAIN_09139.jpg</td>\n",
       "      <td>청풍호에 위치한 약선요리정식 전문점이다.</td>\n",
       "      <td>음식</td>\n",
       "      <td>음식점</td>\n",
       "      <td>한식</td>\n",
       "      <td>22</td>\n",
       "    </tr>\n",
       "    <tr>\n",
       "      <th>479</th>\n",
       "      <td>TRAIN_00479</td>\n",
       "      <td>./image/train/TRAIN_00479.jpg</td>\n",
       "      <td>제18회 대구국제오페라축제(오페라 공연)</td>\n",
       "      <td>인문(문화/예술/역사)</td>\n",
       "      <td>축제</td>\n",
       "      <td>일반축제</td>\n",
       "      <td>22</td>\n",
       "    </tr>\n",
       "    <tr>\n",
       "      <th>8483</th>\n",
       "      <td>TRAIN_08483</td>\n",
       "      <td>./image/train/TRAIN_08483.jpg</td>\n",
       "      <td>메이페어는 평창군 봉평면에 위치하고 있다.</td>\n",
       "      <td>숙박</td>\n",
       "      <td>숙박시설</td>\n",
       "      <td>펜션</td>\n",
       "      <td>23</td>\n",
       "    </tr>\n",
       "    <tr>\n",
       "      <th>5400</th>\n",
       "      <td>TRAIN_05400</td>\n",
       "      <td>./image/train/TRAIN_05400.jpg</td>\n",
       "      <td>1999년부터 오픈한 부대찌개 전문점이다.</td>\n",
       "      <td>음식</td>\n",
       "      <td>음식점</td>\n",
       "      <td>한식</td>\n",
       "      <td>23</td>\n",
       "    </tr>\n",
       "    <tr>\n",
       "      <th>10247</th>\n",
       "      <td>TRAIN_10247</td>\n",
       "      <td>./image/train/TRAIN_10247.jpg</td>\n",
       "      <td>상주시 외답동에 위치한 손짜장 전문점이다.</td>\n",
       "      <td>음식</td>\n",
       "      <td>음식점</td>\n",
       "      <td>중식</td>\n",
       "      <td>23</td>\n",
       "    </tr>\n",
       "    <tr>\n",
       "      <th>3466</th>\n",
       "      <td>TRAIN_03466</td>\n",
       "      <td>./image/train/TRAIN_03466.jpg</td>\n",
       "      <td>바닷가에 인접한 숙소다. 전객실 오션뷰이다.</td>\n",
       "      <td>숙박</td>\n",
       "      <td>숙박시설</td>\n",
       "      <td>펜션</td>\n",
       "      <td>24</td>\n",
       "    </tr>\n",
       "    <tr>\n",
       "      <th>7665</th>\n",
       "      <td>TRAIN_07665</td>\n",
       "      <td>./image/train/TRAIN_07665.jpg</td>\n",
       "      <td>하늘창이 있는 무인텔이다. (1실 1주차장)</td>\n",
       "      <td>숙박</td>\n",
       "      <td>숙박시설</td>\n",
       "      <td>모텔</td>\n",
       "      <td>24</td>\n",
       "    </tr>\n",
       "    <tr>\n",
       "      <th>3470</th>\n",
       "      <td>TRAIN_03470</td>\n",
       "      <td>./image/train/TRAIN_03470.jpg</td>\n",
       "      <td>파주시 금촌동에 위치한 갈비전문점이다.&lt;br&gt;</td>\n",
       "      <td>음식</td>\n",
       "      <td>음식점</td>\n",
       "      <td>한식</td>\n",
       "      <td>25</td>\n",
       "    </tr>\n",
       "    <tr>\n",
       "      <th>7635</th>\n",
       "      <td>TRAIN_07635</td>\n",
       "      <td>./image/train/TRAIN_07635.jpg</td>\n",
       "      <td>한적하고 공기 좋은 곳에 위치한 숙박업소이다.</td>\n",
       "      <td>숙박</td>\n",
       "      <td>숙박시설</td>\n",
       "      <td>홈스테이</td>\n",
       "      <td>25</td>\n",
       "    </tr>\n",
       "    <tr>\n",
       "      <th>14164</th>\n",
       "      <td>TRAIN_14164</td>\n",
       "      <td>./image/train/TRAIN_14164.jpg</td>\n",
       "      <td>별헤는밤펜션은 평창군 봉평면에 위치하고 있다.</td>\n",
       "      <td>숙박</td>\n",
       "      <td>숙박시설</td>\n",
       "      <td>펜션</td>\n",
       "      <td>25</td>\n",
       "    </tr>\n",
       "    <tr>\n",
       "      <th>9908</th>\n",
       "      <td>TRAIN_09908</td>\n",
       "      <td>./image/train/TRAIN_09908.jpg</td>\n",
       "      <td>한옥마을 중심에 위치한 80년 전통 한옥이다.</td>\n",
       "      <td>숙박</td>\n",
       "      <td>숙박시설</td>\n",
       "      <td>홈스테이</td>\n",
       "      <td>25</td>\n",
       "    </tr>\n",
       "    <tr>\n",
       "      <th>11463</th>\n",
       "      <td>TRAIN_11463</td>\n",
       "      <td>./image/train/TRAIN_11463.jpg</td>\n",
       "      <td>휘닉스에메랄드는 평창군 봉평면에 위치하고 있다.</td>\n",
       "      <td>숙박</td>\n",
       "      <td>숙박시설</td>\n",
       "      <td>펜션</td>\n",
       "      <td>26</td>\n",
       "    </tr>\n",
       "    <tr>\n",
       "      <th>2470</th>\n",
       "      <td>TRAIN_02470</td>\n",
       "      <td>./image/train/TRAIN_02470.jpg</td>\n",
       "      <td>전통과 현대가 어우러진 고즈넉한 한옥 숙소이다.</td>\n",
       "      <td>숙박</td>\n",
       "      <td>숙박시설</td>\n",
       "      <td>홈스테이</td>\n",
       "      <td>26</td>\n",
       "    </tr>\n",
       "    <tr>\n",
       "      <th>11426</th>\n",
       "      <td>TRAIN_11426</td>\n",
       "      <td>./image/train/TRAIN_11426.jpg</td>\n",
       "      <td>메이페어 리겔은 평창군 봉평면에 위치하고 있다.</td>\n",
       "      <td>숙박</td>\n",
       "      <td>숙박시설</td>\n",
       "      <td>펜션</td>\n",
       "      <td>26</td>\n",
       "    </tr>\n",
       "    <tr>\n",
       "      <th>335</th>\n",
       "      <td>TRAIN_00335</td>\n",
       "      <td>./image/train/TRAIN_00335.jpg</td>\n",
       "      <td>매죽헌 한옥 민박은 전통한옥 스타일의 민박이다.</td>\n",
       "      <td>숙박</td>\n",
       "      <td>숙박시설</td>\n",
       "      <td>홈스테이</td>\n",
       "      <td>26</td>\n",
       "    </tr>\n",
       "    <tr>\n",
       "      <th>5679</th>\n",
       "      <td>TRAIN_05679</td>\n",
       "      <td>./image/train/TRAIN_05679.jpg</td>\n",
       "      <td>태백산도립공원내에 위치한 태백농특산물직판장이다.</td>\n",
       "      <td>쇼핑</td>\n",
       "      <td>쇼핑</td>\n",
       "      <td>특산물판매점</td>\n",
       "      <td>26</td>\n",
       "    </tr>\n",
       "    <tr>\n",
       "      <th>13959</th>\n",
       "      <td>TRAIN_13959</td>\n",
       "      <td>./image/train/TRAIN_13959.jpg</td>\n",
       "      <td>봉평면 흥정계곡 깊은 조용하고 깨끗한 펜션이다.</td>\n",
       "      <td>숙박</td>\n",
       "      <td>숙박시설</td>\n",
       "      <td>펜션</td>\n",
       "      <td>26</td>\n",
       "    </tr>\n",
       "    <tr>\n",
       "      <th>12525</th>\n",
       "      <td>TRAIN_12525</td>\n",
       "      <td>./image/train/TRAIN_12525.jpg</td>\n",
       "      <td>무용, 국악, 복합 등 다양한 장르의 전통국악공연</td>\n",
       "      <td>인문(문화/예술/역사)</td>\n",
       "      <td>공연/행사</td>\n",
       "      <td>기타행사</td>\n",
       "      <td>27</td>\n",
       "    </tr>\n",
       "  </tbody>\n",
       "</table>\n",
       "</div>"
      ],
      "text/plain": [
       "                id                       img_path  \\\n",
       "3030   TRAIN_03030  ./image/train/TRAIN_03030.jpg   \n",
       "12570  TRAIN_12570  ./image/train/TRAIN_12570.jpg   \n",
       "11168  TRAIN_11168  ./image/train/TRAIN_11168.jpg   \n",
       "14695  TRAIN_14695  ./image/train/TRAIN_14695.jpg   \n",
       "15531  TRAIN_15531  ./image/train/TRAIN_15531.jpg   \n",
       "5390   TRAIN_05390  ./image/train/TRAIN_05390.jpg   \n",
       "13388  TRAIN_13388  ./image/train/TRAIN_13388.jpg   \n",
       "3387   TRAIN_03387  ./image/train/TRAIN_03387.jpg   \n",
       "10378  TRAIN_10378  ./image/train/TRAIN_10378.jpg   \n",
       "14507  TRAIN_14507  ./image/train/TRAIN_14507.jpg   \n",
       "6602   TRAIN_06602  ./image/train/TRAIN_06602.jpg   \n",
       "7659   TRAIN_07659  ./image/train/TRAIN_07659.jpg   \n",
       "9139   TRAIN_09139  ./image/train/TRAIN_09139.jpg   \n",
       "479    TRAIN_00479  ./image/train/TRAIN_00479.jpg   \n",
       "8483   TRAIN_08483  ./image/train/TRAIN_08483.jpg   \n",
       "5400   TRAIN_05400  ./image/train/TRAIN_05400.jpg   \n",
       "10247  TRAIN_10247  ./image/train/TRAIN_10247.jpg   \n",
       "3466   TRAIN_03466  ./image/train/TRAIN_03466.jpg   \n",
       "7665   TRAIN_07665  ./image/train/TRAIN_07665.jpg   \n",
       "3470   TRAIN_03470  ./image/train/TRAIN_03470.jpg   \n",
       "7635   TRAIN_07635  ./image/train/TRAIN_07635.jpg   \n",
       "14164  TRAIN_14164  ./image/train/TRAIN_14164.jpg   \n",
       "9908   TRAIN_09908  ./image/train/TRAIN_09908.jpg   \n",
       "11463  TRAIN_11463  ./image/train/TRAIN_11463.jpg   \n",
       "2470   TRAIN_02470  ./image/train/TRAIN_02470.jpg   \n",
       "11426  TRAIN_11426  ./image/train/TRAIN_11426.jpg   \n",
       "335    TRAIN_00335  ./image/train/TRAIN_00335.jpg   \n",
       "5679   TRAIN_05679  ./image/train/TRAIN_05679.jpg   \n",
       "13959  TRAIN_13959  ./image/train/TRAIN_13959.jpg   \n",
       "12525  TRAIN_12525  ./image/train/TRAIN_12525.jpg   \n",
       "\n",
       "                          overview          cat1    cat2       cat3  \\\n",
       "3030                       홈페이지 참조  인문(문화/예술/역사)   공연/행사       기타행사   \n",
       "12570                양구에 위치한 민박이다.            숙박    숙박시설         펜션   \n",
       "11168             역사의 깊이가 있는 고택이다.            숙박    숙박시설       홈스테이   \n",
       "14695            쫄면이 맛있는 분식 전문점이다.            음식     음식점         한식   \n",
       "15531         크리스마스 트리니팅, 빛의 거리 조성  인문(문화/예술/역사)   공연/행사       기타행사   \n",
       "5390          푸른자연과 함께하는 한적한 가족캠핑장           레포츠  육상 레포츠  야영장,오토캠핑장   \n",
       "13388        안동 시내에 위치한 한정식 전문점이다.            음식     음식점         한식   \n",
       "3387         산모랭이펜션은 진부면에 위치하고 있다.            숙박    숙박시설         펜션   \n",
       "10378        파주시와 함께하는 2021경기건축문화제  인문(문화/예술/역사)      축제       일반축제   \n",
       "14507        다양한 쟝르 청년 예술인들의 공연 축제  인문(문화/예술/역사)      축제       일반축제   \n",
       "6602        전주 한옥마을에 있는 전통 숙박업소이다.            숙박    숙박시설       홈스테이   \n",
       "7659        개별 온수 수영장이 있는 한옥 펜션이다.            숙박    숙박시설       홈스테이   \n",
       "9139        청풍호에 위치한 약선요리정식 전문점이다.            음식     음식점         한식   \n",
       "479         제18회 대구국제오페라축제(오페라 공연)  인문(문화/예술/역사)      축제       일반축제   \n",
       "8483       메이페어는 평창군 봉평면에 위치하고 있다.            숙박    숙박시설         펜션   \n",
       "5400       1999년부터 오픈한 부대찌개 전문점이다.            음식     음식점         한식   \n",
       "10247      상주시 외답동에 위치한 손짜장 전문점이다.            음식     음식점         중식   \n",
       "3466      바닷가에 인접한 숙소다. 전객실 오션뷰이다.            숙박    숙박시설         펜션   \n",
       "7665      하늘창이 있는 무인텔이다. (1실 1주차장)            숙박    숙박시설         모텔   \n",
       "3470     파주시 금촌동에 위치한 갈비전문점이다.<br>            음식     음식점         한식   \n",
       "7635     한적하고 공기 좋은 곳에 위치한 숙박업소이다.            숙박    숙박시설       홈스테이   \n",
       "14164    별헤는밤펜션은 평창군 봉평면에 위치하고 있다.            숙박    숙박시설         펜션   \n",
       "9908     한옥마을 중심에 위치한 80년 전통 한옥이다.            숙박    숙박시설       홈스테이   \n",
       "11463   휘닉스에메랄드는 평창군 봉평면에 위치하고 있다.            숙박    숙박시설         펜션   \n",
       "2470    전통과 현대가 어우러진 고즈넉한 한옥 숙소이다.            숙박    숙박시설       홈스테이   \n",
       "11426   메이페어 리겔은 평창군 봉평면에 위치하고 있다.            숙박    숙박시설         펜션   \n",
       "335     매죽헌 한옥 민박은 전통한옥 스타일의 민박이다.            숙박    숙박시설       홈스테이   \n",
       "5679    태백산도립공원내에 위치한 태백농특산물직판장이다.            쇼핑      쇼핑     특산물판매점   \n",
       "13959   봉평면 흥정계곡 깊은 조용하고 깨끗한 펜션이다.            숙박    숙박시설         펜션   \n",
       "12525  무용, 국악, 복합 등 다양한 장르의 전통국악공연  인문(문화/예술/역사)   공연/행사       기타행사   \n",
       "\n",
       "       overview_len  \n",
       "3030              7  \n",
       "12570            13  \n",
       "11168            16  \n",
       "14695            17  \n",
       "15531            20  \n",
       "5390             20  \n",
       "13388            21  \n",
       "3387             21  \n",
       "10378            21  \n",
       "14507            21  \n",
       "6602             22  \n",
       "7659             22  \n",
       "9139             22  \n",
       "479              22  \n",
       "8483             23  \n",
       "5400             23  \n",
       "10247            23  \n",
       "3466             24  \n",
       "7665             24  \n",
       "3470             25  \n",
       "7635             25  \n",
       "14164            25  \n",
       "9908             25  \n",
       "11463            26  \n",
       "2470             26  \n",
       "11426            26  \n",
       "335              26  \n",
       "5679             26  \n",
       "13959            26  \n",
       "12525            27  "
      ]
     },
     "execution_count": 16,
     "metadata": {},
     "output_type": "execute_result"
    }
   ],
   "source": [
    "# 6. overview 길이 하위 30개의 실제 값 확인\n",
    "train_df.sort_values(\"overview_len\")[:30]"
   ]
  },
  {
   "cell_type": "markdown",
   "id": "b516ed89",
   "metadata": {},
   "source": [
    "- 길이가 가장 짧은 overview를 제외하고는 의미있는 Text가 담겨있는 것을 확인할 수 있다.\n",
    "- 따라서 모델 성능 향상을 위해 해당 overview를 제거하거나, image를 보고 overview를 재작성하는 것을 고려할 수 있다."
   ]
  },
  {
   "cell_type": "markdown",
   "id": "ed411e5f",
   "metadata": {},
   "source": [
    "## 4. 데이터 전처리"
   ]
  },
  {
   "cell_type": "markdown",
   "id": "a09a78c2",
   "metadata": {},
   "source": [
    "### 1) 텍스트 전처리\n",
    "- Multi-Modal이기 때문에 image와 text가 모두 중복이 아니면 그대로 둔다.\n",
    "    - ex) 같은 관광명소의 사진을 다른 구도로 촬영하고 설명은 같을 수 있기 때문.\n",
    "    - 위와같은 경우 데이터를 제외하면 관광지를 특정할 수 있는 요소가 하나 사라지므로 성능이 악화될 것"
   ]
  },
  {
   "cell_type": "markdown",
   "id": "e3366d81",
   "metadata": {},
   "source": [
    "#### (1) 이상치 overview 채우기"
   ]
  },
  {
   "cell_type": "code",
   "execution_count": 17,
   "id": "67d4d993",
   "metadata": {},
   "outputs": [
    {
     "data": {
      "image/png": "[encoded data removed]",
      "text/plain": [
       "<Figure size 640x480 with 1 Axes>"
      ]
     },
     "metadata": {},
     "output_type": "display_data"
    }
   ],
   "source": [
    "# 1. 이상치에 해당하는 overview의 이미지\n",
    "outlier_overview_image = cv2.imread(train_df.iloc[3030]['img_path'])\n",
    "plt.imshow(cv2.cvtColor(outlier_overview_image, cv2.COLOR_BGR2RGB))\n",
    "plt.axis('off')\n",
    "plt.show()"
   ]
  },
  {
   "cell_type": "code",
   "execution_count": 18,
   "id": "cd251db3",
   "metadata": {},
   "outputs": [
    {
     "data": {
      "text/plain": [
       "id                                                    TRAIN_03030\n",
       "img_path                            ./image/train/TRAIN_03030.jpg\n",
       "overview        대구국제마라톤대회는 대한민국의 대구에서 매년 4월에 열리는 마라톤 대회이다. 세계육...\n",
       "cat1                                                 인문(문화/예술/역사)\n",
       "cat2                                                        공연/행사\n",
       "cat3                                                         기타행사\n",
       "overview_len                                                    7\n",
       "Name: 3030, dtype: object"
      ]
     },
     "execution_count": 18,
     "metadata": {},
     "output_type": "execute_result"
    }
   ],
   "source": [
    "# 2. 대구국제마라톤을 검색해보고 overview를 채워넣기\n",
    "train_df.loc[3030, 'overview'] = \"대구국제마라톤대회는 대한민국의 대구에서 매년 4월에 열리는 마라톤 대회이다. 세계육상연맹이 10년 연속 '실버라벨'을 인정한 국제마라톤 대회이다.\"\n",
    "train_df.iloc[3030]"
   ]
  },
  {
   "cell_type": "markdown",
   "id": "d49cb95b",
   "metadata": {},
   "source": [
    "#### (2) 한글외의 문자 제거"
   ]
  },
  {
   "cell_type": "code",
   "execution_count": 20,
   "id": "477fe1ac",
   "metadata": {},
   "outputs": [
    {
     "name": "stderr",
     "output_type": "stream",
     "text": [
      "C:\\Users\\Park Ji Seong\\anaconda3\\envs\\dacon\\lib\\site-packages\\ipykernel_launcher.py:1: FutureWarning: The default value of regex will change from True to False in a future version.\n",
      "  \"\"\"Entry point for launching an IPython kernel.\n"
     ]
    },
    {
     "data": {
      "text/plain": [
       "id              0\n",
       "img_path        0\n",
       "overview        0\n",
       "cat1            0\n",
       "cat2            0\n",
       "cat3            0\n",
       "overview_len    0\n",
       "dtype: int64"
      ]
     },
     "execution_count": 20,
     "metadata": {},
     "output_type": "execute_result"
    }
   ],
   "source": [
    "train_df['overview'] = train_df['overview'].str.replace(\"[^ㄱ-ㅎㅏ-ㅣ가-힣 ]\", \"\")\n",
    "train_df['overview'].replace('', np.nan, inplace=True)\n",
    "train_df.isnull().sum() # 전처리 과정에서 null값이 생기는지 확인"
   ]
  },
  {
   "cell_type": "code",
   "execution_count": 21,
   "id": "7bfc8e53",
   "metadata": {},
   "outputs": [
    {
     "data": {
      "text/plain": [
       "0    소안항은 조용한 섬으로 인근해안이 청정해역으로 일찍이 김 양식을 해서 높은 소득을 ...\n",
       "1    경기도 이천시 모가면에 있는 골프장으로 대중제 홀이다 회원제로 개장을 했다가 년 대...\n",
       "2    금오산성숯불갈비는 한우고기만을 전문적으로 취급하고 사용하는 부식 자재 또한 유기농법...\n",
       "3    철판 위에서 요리하는 안동찜닭을 맛볼 수 있는 곳이다 경상북도 안동시에 있는 한식 ...\n",
       "4       영업시간   대에 걸쳐 아귀만을 전문으로 취급하는 전통과 역사를 자랑하는 음식점이다\n",
       "Name: overview, dtype: object"
      ]
     },
     "execution_count": 21,
     "metadata": {},
     "output_type": "execute_result"
    }
   ],
   "source": [
    "train_df['overview'].head()"
   ]
  },
  {
   "cell_type": "markdown",
   "id": "0da5dd47",
   "metadata": {},
   "source": [
    "#### (3) 형태소 토큰화"
   ]
  },
  {
   "cell_type": "code",
   "execution_count": 19,
   "id": "08cd3a22",
   "metadata": {},
   "outputs": [],
   "source": [
    "# 1. Mecab 형태소 분석기 로드\n",
    "mecab = Mecab('C:\\mecab\\mecab-ko-dic')"
   ]
  },
  {
   "cell_type": "code",
   "execution_count": 22,
   "id": "6f378011",
   "metadata": {},
   "outputs": [
    {
     "data": {
      "text/plain": [
       "0    [소안항, 은, 조용, 한, 섬, 으로, 인근, 해안, 이, 청정, 해역, 으로, ...\n",
       "1    [경기도, 이천시, 모가면, 에, 있, 는, 골프장, 으로, 대중, 제, 홀, 이,...\n",
       "2    [금오, 산, 성, 숯불갈비, 는, 한우, 고기, 만, 을, 전문, 적, 으로, 취...\n",
       "3    [철판, 위, 에서, 요리, 하, 는, 안동, 찜, 닭, 을, 맛볼, 수, 있, 는...\n",
       "4    [영업시간, 대, 에, 걸쳐, 아귀, 만, 을, 전문, 으로, 취급, 하, 는, 전...\n",
       "Name: tokenized, dtype: object"
      ]
     },
     "execution_count": 22,
     "metadata": {},
     "output_type": "execute_result"
    }
   ],
   "source": [
    "# 2. 형태소 토큰화\n",
    "train_df['tokenized'] = train_df['overview'].apply(mecab.morphs)\n",
    "train_df['tokenized'].head()"
   ]
  },
  {
   "cell_type": "markdown",
   "id": "3af5dd32",
   "metadata": {},
   "source": [
    "#### (4) 정수 인코딩"
   ]
  },
  {
   "cell_type": "code",
   "execution_count": 24,
   "id": "ec1f4f03",
   "metadata": {},
   "outputs": [],
   "source": [
    "# 1. X 정의\n",
    "train_txt_X = train_df['tokenized'].values"
   ]
  },
  {
   "cell_type": "code",
   "execution_count": 25,
   "id": "ea1b8731",
   "metadata": {},
   "outputs": [],
   "source": [
    "# 2. Tokenizer 학습\n",
    "tokenizer = Tokenizer()\n",
    "tokenizer.fit_on_texts(train_txt_X)"
   ]
  },
  {
   "cell_type": "code",
   "execution_count": 30,
   "id": "285a2478",
   "metadata": {
    "scrolled": true
   },
   "outputs": [],
   "source": [
    "# 3. Word index 확인\n",
    "# tokenizer.word_index"
   ]
  },
  {
   "cell_type": "code",
   "execution_count": 33,
   "id": "d62c2969",
   "metadata": {},
   "outputs": [
    {
     "name": "stdout",
     "output_type": "stream",
     "text": [
      "단어 집합(vocabulary)의 크기 : 54693\n",
      "등장 빈도가 1번 이하인 희귀 단어의 수: 19548\n",
      "단어 집합에서 희귀 단어의 비율: 35.74131973013\n",
      "전체 등장 빈도에서 희귀 단어 등장 빈도 비율: 0.8006625494884656\n"
     ]
    }
   ],
   "source": [
    "# 4. 희귀 단어 제거 여부 결정\n",
    "threshold = 2\n",
    "total_cnt = len(tokenizer.word_index) # 단어의 수\n",
    "rare_cnt = 0 # 등장 빈도수가 threshold보다 작은 단어의 개수를 카운트\n",
    "total_freq = 0 # 훈련 데이터의 전체 단어 빈도수 총 합\n",
    "rare_freq = 0 # 등장 빈도수가 threshold보다 작은 단어의 등장 빈도수의 총 합\n",
    "\n",
    "# 단어와 빈도수의 쌍(pair)을 key와 value로 받는다.\n",
    "for key, value in tokenizer.word_counts.items():\n",
    "    total_freq = total_freq + value\n",
    "\n",
    "    # 단어의 등장 빈도수가 threshold보다 작으면\n",
    "    if(value < threshold):\n",
    "        rare_cnt = rare_cnt + 1\n",
    "        rare_freq = rare_freq + value\n",
    "\n",
    "print('단어 집합(vocabulary)의 크기 :',total_cnt)\n",
    "print('등장 빈도가 %s번 이하인 희귀 단어의 수: %s'%(threshold - 1, rare_cnt))\n",
    "print(\"단어 집합에서 희귀 단어의 비율:\", (rare_cnt / total_cnt)*100)\n",
    "print(\"전체 등장 빈도에서 희귀 단어 등장 빈도 비율:\", (rare_freq / total_freq)*100)"
   ]
  },
  {
   "cell_type": "markdown",
   "id": "a6413d5e",
   "metadata": {},
   "source": [
    "- 대부분 텍스트에서 희귀단어가 존재하므로 제거하지 않는다."
   ]
  },
  {
   "cell_type": "code",
   "execution_count": 34,
   "id": "a55c1ed9",
   "metadata": {},
   "outputs": [
    {
     "name": "stdout",
     "output_type": "stream",
     "text": [
      "단어 집합의 크기 : 54695\n"
     ]
    }
   ],
   "source": [
    "# 5. vocab size 설정\n",
    "vocab_size = total_cnt + 2 # OOV 토큰과 0번 패딩 토큰을 고려하여 + 2\n",
    "print('단어 집합의 크기 :',vocab_size)"
   ]
  },
  {
   "cell_type": "code",
   "execution_count": 35,
   "id": "59ecef93",
   "metadata": {},
   "outputs": [],
   "source": [
    "# 6. 최종 토크나이저 학습 및 변환\n",
    "tokenizer = Tokenizer(vocab_size, oov_token = 'OOV') \n",
    "tokenizer.fit_on_texts(train_txt_X)\n",
    "train_txt_X = tokenizer.texts_to_sequences(train_txt_X)"
   ]
  },
  {
   "cell_type": "code",
   "execution_count": 37,
   "id": "fb29414b",
   "metadata": {},
   "outputs": [
    {
     "name": "stdout",
     "output_type": "stream",
     "text": [
      "[[35147, 10, 668, 12, 201, 14, 141, 402, 2, 481, 2467, 14, 5053, 1030, 470, 7, 383, 224, 10, 3558, 7, 1639, 11, 5, 33, 2629, 7143, 21, 132, 9, 4, 1936, 94, 6, 179, 41, 4519, 23, 10, 27232, 23, 8, 15897, 12, 3797, 7, 35148, 522, 9142, 340, 11, 5, 33, 1329, 92, 201, 8, 6926, 10, 119, 8, 796, 7, 366, 862, 11, 5, 3, 277, 9, 4, 91, 201, 6, 3, 283, 17588, 673, 12504, 209, 24, 8, 2724, 15, 750, 1354, 11, 5, 33, 457, 4017, 12505, 4856, 2, 683, 11, 5, 4], [227, 5946, 13384, 6, 5, 3, 706, 14, 1186, 211, 509, 2, 4, 1890, 211, 17, 832, 7, 85, 260, 26, 1186, 211, 17, 5514, 9, 27, 405, 832, 85, 4, 272, 845, 134, 6, 6431, 6, 509, 400, 2, 4, 124, 25, 124, 15, 5, 4, 1680, 74, 1026, 124, 15898, 28, 3034, 35149, 15, 14525, 97, 3, 500, 11, 2500, 3741, 97, 3, 2301, 30, 1077, 85, 149, 39, 681, 6, 19768, 22775, 2401, 4177, 4446, 1560, 22776, 13385, 12506, 24, 8, 706, 2, 5, 4], [4178, 62, 103, 6580, 3, 373, 382, 46, 7, 261, 35, 14, 1561, 9, 11, 120, 9, 3, 13386, 5947, 91, 5054, 5663, 14, 685, 12, 481, 1013, 46, 7, 1561, 9, 11, 5, 149, 39, 183, 7, 340, 10, 2095, 21, 207, 105, 19769, 14, 878, 9, 56, 11, 7144, 91, 338, 9, 11, 1963, 35150, 6, 416, 248, 363, 3, 24, 194, 10, 38, 1269, 892, 7, 4, 9, 3, 193, 7, 236, 19, 5, 4]]\n"
     ]
    }
   ],
   "source": [
    "# 7. 토큰 값 확인\n",
    "print(train_txt_X[:3])"
   ]
  },
  {
   "cell_type": "markdown",
   "id": "a7646b67",
   "metadata": {},
   "source": [
    "#### (5) 패딩"
   ]
  },
  {
   "cell_type": "code",
   "execution_count": 40,
   "id": "d1637792",
   "metadata": {},
   "outputs": [],
   "source": [
    "def below_threshold_len(max_len, nested_list):\n",
    "    count = 0\n",
    "    for sentence in nested_list:\n",
    "        if(len(sentence) <= max_len):\n",
    "            count = count + 1\n",
    "    print('전체 샘플 중 길이가 %s 이하인 샘플의 비율: %s'%(max_len, (count / len(nested_list))*100))"
   ]
  },
  {
   "cell_type": "code",
   "execution_count": 45,
   "id": "8b2a6823",
   "metadata": {},
   "outputs": [
    {
     "name": "stdout",
     "output_type": "stream",
     "text": [
      "전체 샘플 중 길이가 600 이하인 샘플의 비율: 99.04038620040033\n"
     ]
    }
   ],
   "source": [
    "max_len = 600\n",
    "below_threshold_len(max_len, train_txt_X)"
   ]
  },
  {
   "cell_type": "markdown",
   "id": "e1171dfd",
   "metadata": {},
   "source": [
    "- 600의 길이로 패딩할 경우 99% 이상의 샘플이 보전됨으로 600으로 패딩한다."
   ]
  },
  {
   "cell_type": "code",
   "execution_count": 46,
   "id": "e3c38e1b",
   "metadata": {},
   "outputs": [],
   "source": [
    "train_txt_X = pad_sequences(train_txt_X, maxlen=max_len)"
   ]
  }
 ],
 "metadata": {
  "kernelspec": {
   "display_name": "Python 3 (ipykernel)",
   "language": "python",
   "name": "python3"
  },
  "language_info": {
   "codemirror_mode": {
    "name": "ipython",
    "version": 3
   },
   "file_extension": ".py",
   "mimetype": "text/x-python",
   "name": "python",
   "nbconvert_exporter": "python",
   "pygments_lexer": "ipython3",
   "version": "3.7.13"
  }
 },
 "nbformat": 4,
 "nbformat_minor": 5
}
