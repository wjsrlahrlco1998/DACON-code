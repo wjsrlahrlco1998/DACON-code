{
 "cells": [
  {
   "cell_type": "markdown",
   "id": "8c485c41",
   "metadata": {},
   "source": [
    "# 중고차 가격 예측 미션\n",
    "---"
   ]
  },
  {
   "cell_type": "markdown",
   "id": "79c19adc",
   "metadata": {},
   "source": [
    "## 1. 데이터 로드"
   ]
  },
  {
   "cell_type": "code",
   "execution_count": 1,
   "id": "1ecaead7",
   "metadata": {},
   "outputs": [],
   "source": [
    "import pandas as pd\n",
    "import numpy as np"
   ]
  },
  {
   "cell_type": "code",
   "execution_count": 2,
   "id": "9126cb26",
   "metadata": {},
   "outputs": [
    {
     "data": {
      "text/html": [
       "<div>\n",
       "<style scoped>\n",
       "    .dataframe tbody tr th:only-of-type {\n",
       "        vertical-align: middle;\n",
       "    }\n",
       "\n",
       "    .dataframe tbody tr th {\n",
       "        vertical-align: top;\n",
       "    }\n",
       "\n",
       "    .dataframe thead th {\n",
       "        text-align: right;\n",
       "    }\n",
       "</style>\n",
       "<table border=\"1\" class=\"dataframe\">\n",
       "  <thead>\n",
       "    <tr style=\"text-align: right;\">\n",
       "      <th></th>\n",
       "      <th>id</th>\n",
       "      <th>title</th>\n",
       "      <th>odometer</th>\n",
       "      <th>location</th>\n",
       "      <th>isimported</th>\n",
       "      <th>engine</th>\n",
       "      <th>transmission</th>\n",
       "      <th>fuel</th>\n",
       "      <th>paint</th>\n",
       "      <th>year</th>\n",
       "      <th>target</th>\n",
       "    </tr>\n",
       "  </thead>\n",
       "  <tbody>\n",
       "    <tr>\n",
       "      <th>0</th>\n",
       "      <td>0</td>\n",
       "      <td>Toyota RAV 4</td>\n",
       "      <td>18277</td>\n",
       "      <td>Lagos</td>\n",
       "      <td>Foreign Used</td>\n",
       "      <td>4-cylinder(I4)</td>\n",
       "      <td>automatic</td>\n",
       "      <td>petrol</td>\n",
       "      <td>Red</td>\n",
       "      <td>2016</td>\n",
       "      <td>13665000</td>\n",
       "    </tr>\n",
       "    <tr>\n",
       "      <th>1</th>\n",
       "      <td>1</td>\n",
       "      <td>Toyota Land Cruiser</td>\n",
       "      <td>10</td>\n",
       "      <td>Lagos</td>\n",
       "      <td>New</td>\n",
       "      <td>4-cylinder(I4)</td>\n",
       "      <td>automatic</td>\n",
       "      <td>petrol</td>\n",
       "      <td>Black</td>\n",
       "      <td>2019</td>\n",
       "      <td>33015000</td>\n",
       "    </tr>\n",
       "  </tbody>\n",
       "</table>\n",
       "</div>"
      ],
      "text/plain": [
       "   id                title  odometer location    isimported          engine  \\\n",
       "0   0         Toyota RAV 4     18277   Lagos   Foreign Used  4-cylinder(I4)   \n",
       "1   1  Toyota Land Cruiser        10    Lagos          New   4-cylinder(I4)   \n",
       "\n",
       "  transmission    fuel  paint  year    target  \n",
       "0    automatic  petrol    Red  2016  13665000  \n",
       "1    automatic  petrol  Black  2019  33015000  "
      ]
     },
     "execution_count": 2,
     "metadata": {},
     "output_type": "execute_result"
    }
   ],
   "source": [
    "train_df = pd.read_csv(\"train.csv\")\n",
    "train_df.head(2)"
   ]
  },
  {
   "cell_type": "code",
   "execution_count": 3,
   "id": "809d335f",
   "metadata": {},
   "outputs": [
    {
     "data": {
      "text/html": [
       "<div>\n",
       "<style scoped>\n",
       "    .dataframe tbody tr th:only-of-type {\n",
       "        vertical-align: middle;\n",
       "    }\n",
       "\n",
       "    .dataframe tbody tr th {\n",
       "        vertical-align: top;\n",
       "    }\n",
       "\n",
       "    .dataframe thead th {\n",
       "        text-align: right;\n",
       "    }\n",
       "</style>\n",
       "<table border=\"1\" class=\"dataframe\">\n",
       "  <thead>\n",
       "    <tr style=\"text-align: right;\">\n",
       "      <th></th>\n",
       "      <th>id</th>\n",
       "      <th>title</th>\n",
       "      <th>odometer</th>\n",
       "      <th>location</th>\n",
       "      <th>isimported</th>\n",
       "      <th>engine</th>\n",
       "      <th>transmission</th>\n",
       "      <th>fuel</th>\n",
       "      <th>paint</th>\n",
       "      <th>year</th>\n",
       "    </tr>\n",
       "  </thead>\n",
       "  <tbody>\n",
       "    <tr>\n",
       "      <th>0</th>\n",
       "      <td>0</td>\n",
       "      <td>Mercedes-Benz C 300</td>\n",
       "      <td>1234</td>\n",
       "      <td>Abuja</td>\n",
       "      <td>New</td>\n",
       "      <td>4-cylinder(I4)</td>\n",
       "      <td>automatic</td>\n",
       "      <td>petrol</td>\n",
       "      <td>White</td>\n",
       "      <td>2017</td>\n",
       "    </tr>\n",
       "    <tr>\n",
       "      <th>1</th>\n",
       "      <td>1</td>\n",
       "      <td>Honda Accord</td>\n",
       "      <td>29938</td>\n",
       "      <td>Abuja</td>\n",
       "      <td>Foreign Used</td>\n",
       "      <td>4-cylinder(I4)</td>\n",
       "      <td>automatic</td>\n",
       "      <td>petrol</td>\n",
       "      <td>White</td>\n",
       "      <td>2013</td>\n",
       "    </tr>\n",
       "  </tbody>\n",
       "</table>\n",
       "</div>"
      ],
      "text/plain": [
       "   id                title  odometer location    isimported          engine  \\\n",
       "0   0  Mercedes-Benz C 300      1234    Abuja          New   4-cylinder(I4)   \n",
       "1   1         Honda Accord     29938    Abuja  Foreign Used  4-cylinder(I4)   \n",
       "\n",
       "  transmission    fuel  paint  year  \n",
       "0    automatic  petrol  White  2017  \n",
       "1    automatic  petrol  White  2013  "
      ]
     },
     "execution_count": 3,
     "metadata": {},
     "output_type": "execute_result"
    }
   ],
   "source": [
    "test_df = pd.read_csv(\"test.csv\")\n",
    "test_df.head(2)"
   ]
  },
  {
   "cell_type": "markdown",
   "id": "75fb62d4",
   "metadata": {},
   "source": [
    "- id : 샘플 아이디\n",
    "- title : 제조사 모델명\n",
    "- odometer : 주행 거리\n",
    "- location : 판매처(나이지리아 도시)\n",
    "- isimported : 현지 사용 여부\n",
    "- engine : 엔진 종류\n",
    "- transmission : 트랜스미션 종류\n",
    "- fuel : 연료 종류\n",
    "- paint : 페인트 색상\n",
    "- year : 제조년도\n",
    "- target : 자동차 가격"
   ]
  },
  {
   "cell_type": "markdown",
   "id": "891572e6",
   "metadata": {},
   "source": [
    "## 2. 데이터 확인 및 분석전 전처리"
   ]
  },
  {
   "cell_type": "markdown",
   "id": "20cc0cd7",
   "metadata": {},
   "source": [
    "### 2-1) 결측치 확인"
   ]
  },
  {
   "cell_type": "code",
   "execution_count": 4,
   "id": "f854b78e",
   "metadata": {
    "scrolled": true
   },
   "outputs": [
    {
     "data": {
      "text/plain": [
       "id              0\n",
       "title           0\n",
       "odometer        0\n",
       "location        0\n",
       "isimported      0\n",
       "engine          0\n",
       "transmission    0\n",
       "fuel            0\n",
       "paint           0\n",
       "year            0\n",
       "target          0\n",
       "dtype: int64"
      ]
     },
     "execution_count": 4,
     "metadata": {},
     "output_type": "execute_result"
    }
   ],
   "source": [
    "train_df.isna().sum()"
   ]
  },
  {
   "cell_type": "markdown",
   "id": "426f24ab",
   "metadata": {},
   "source": [
    "=> 결측지 없음"
   ]
  },
  {
   "cell_type": "markdown",
   "id": "53977d62",
   "metadata": {},
   "source": [
    "### 2-2) 데이터 시각적 확인"
   ]
  },
  {
   "cell_type": "code",
   "execution_count": 36,
   "id": "08625b16",
   "metadata": {},
   "outputs": [
    {
     "data": {
      "image/png": "[encoded data removed]",
      "text/plain": [
       "<Figure size 432x288 with 1 Axes>"
      ]
     },
     "metadata": {
      "needs_background": "light"
     },
     "output_type": "display_data"
    },
    {
     "data": {
      "image/png": "[encoded data removed]",
      "text/plain": [
       "<Figure size 432x288 with 1 Axes>"
      ]
     },
     "metadata": {
      "needs_background": "light"
     },
     "output_type": "display_data"
    },
    {
     "data": {
      "image/png": "[encoded data removed]",
      "text/plain": [
       "<Figure size 432x288 with 1 Axes>"
      ]
     },
     "metadata": {
      "needs_background": "light"
     },
     "output_type": "display_data"
    },
    {
     "data": {
      "image/png": "[encoded data removed]",
      "text/plain": [
       "<Figure size 432x288 with 1 Axes>"
      ]
     },
     "metadata": {
      "needs_background": "light"
     },
     "output_type": "display_data"
    },
    {
     "data": {
      "image/png": "[encoded data removed]",
      "text/plain": [
       "<Figure size 432x288 with 1 Axes>"
      ]
     },
     "metadata": {
      "needs_background": "light"
     },
     "output_type": "display_data"
    },
    {
     "data": {
      "image/png": "[encoded data removed]",
      "text/plain": [
       "<Figure size 432x288 with 1 Axes>"
      ]
     },
     "metadata": {
      "needs_background": "light"
     },
     "output_type": "display_data"
    },
    {
     "data": {
      "image/png": "[encoded data removed]",
      "text/plain": [
       "<Figure size 432x288 with 1 Axes>"
      ]
     },
     "metadata": {
      "needs_background": "light"
     },
     "output_type": "display_data"
    },
    {
     "data": {
      "image/png": "[encoded data removed]",
      "text/plain": [
       "<Figure size 432x288 with 1 Axes>"
      ]
     },
     "metadata": {
      "needs_background": "light"
     },
     "output_type": "display_data"
    },
    {
     "data": {
      "image/png": "[encoded data removed]",
      "text/plain": [
       "<Figure size 432x288 with 1 Axes>"
      ]
     },
     "metadata": {
      "needs_background": "light"
     },
     "output_type": "display_data"
    },
    {
     "data": {
      "image/png": "[encoded data removed]",
      "text/plain": [
       "<Figure size 432x288 with 1 Axes>"
      ]
     },
     "metadata": {
      "needs_background": "light"
     },
     "output_type": "display_data"
    },
    {
     "data": {
      "image/png": "[encoded data removed]",
      "text/plain": [
       "<Figure size 432x288 with 1 Axes>"
      ]
     },
     "metadata": {
      "needs_background": "light"
     },
     "output_type": "display_data"
    }
   ],
   "source": [
    "import seaborn as sns\n",
    "import matplotlib.pyplot as plt\n",
    "\n",
    "for i in train_df.columns:\n",
    "    plt.scatter(train_df['target'], train_df[i])\n",
    "    plt.xlabel('target')\n",
    "    plt.ylabel(i)\n",
    "    plt.show()"
   ]
  },
  {
   "cell_type": "markdown",
   "id": "e9bfd4b7",
   "metadata": {},
   "source": [
    "- 분석\n",
    "    - 중고차의 경우 한가지의 요인이 가격에 영향을 미친다기보다는 복합적으로 작용한다. (하나의 피처가 선형성을 갖지는 않는다)\n",
    "    - 색상의 경우 특정 색상이 가격에 영향을 주지는 않는 것으로 보인다 => 피쳐삭제\n",
    "    - 주행거리의 경우 주행거리가 적을수록 가격이 올라가는 선형성을 보인다.\n",
    "    - 차량기종은 너무 다양하기 때문에 하나의 브랜드로 통일하는것도 좋을 것으로 보인다 => 엔진, 연료, 트랜스미션, 브랜드가 차량기종을 설명할 수 있다.\n",
    "    - 판매처는 Abuja와 Lagos 외에는 비슷한 가격대를 형성하니 통합해도 좋을 것으로 보인다."
   ]
  },
  {
   "cell_type": "markdown",
   "id": "05a2909a",
   "metadata": {},
   "source": [
    "### 2-3) 범주형 데이터 확인"
   ]
  },
  {
   "cell_type": "markdown",
   "id": "2e348ece",
   "metadata": {},
   "source": [
    "1. title 확인"
   ]
  },
  {
   "cell_type": "code",
   "execution_count": 5,
   "id": "4a947e38",
   "metadata": {
    "scrolled": true
   },
   "outputs": [
    {
     "data": {
      "text/plain": [
       "array(['Toyota RAV 4', 'Toyota Land Cruiser',\n",
       "       'Land Rover Range Rover Evoque', 'Lexus ES 350', 'Toyota Venza',\n",
       "       'Toyota Corolla', 'Land Rover Range Rover Sport', 'Pontiac Vibe',\n",
       "       'Toyota Tacoma', 'Lexus RX 350', 'Ford Escape', 'Honda Civic',\n",
       "       'Volvo XC90', 'BMW 750', 'Infiniti JX', 'Honda Accord',\n",
       "       'Mercedes-Benz ML 350', 'Toyota Camry', 'Hyundai Azera',\n",
       "       'Lexus GX 460', 'BMW 325', 'Toyota Sienna', 'Honda Fit',\n",
       "       'Honda CR-V', 'Hyundai Tucson', 'Ford Transit', 'Jaguar XJ8',\n",
       "       'BMW X6', 'Mercedes-Benz C 300', 'Mitsubishi Galant',\n",
       "       'Mercedes-Benz GL 450', 'Lexus RX 300', 'Toyota Highlander',\n",
       "       'Mitsubishi CANTER PICK UP', 'Nissan Titan', 'Lexus IS 250',\n",
       "       'Mercedes-Benz 200', 'Toyota Sequoia', 'Ford Explorer',\n",
       "       'Hyundai ix35', 'Mack CH613 CONVENTIONAL CAB', 'Lexus CT 200h',\n",
       "       'Lexus LX 570', 'Toyota Avensis', 'Toyota 4-Runner',\n",
       "       'Mercedes-Benz GLE 350', 'Mercedes-Benz E 300', 'Toyota Avalon',\n",
       "       'Chevrolet Camaro', 'Mack CXN613 CAB BEHIND ENGINE',\n",
       "       'Land Rover Range Rover', 'Mazda CX-9', 'Lexus RX 330',\n",
       "       'Lincoln Mark', 'Kia Optima', 'Volkswagen LT', 'Lexus GS 300',\n",
       "       'Jaguar X-Type', 'Mercedes-Benz 709 DB', 'Nissan Altima',\n",
       "       'Acura MDX', 'DAF 95XF TRACTOR HEAD', 'Man TGA 18.360',\n",
       "       'Nissan Pathfinder', 'Mercedes-Benz E 350', 'Honda Crosstour',\n",
       "       'Honda Pilot', 'Lexus LS 460', 'Nissan Cabstar', 'Kia Sorento',\n",
       "       'Mercedes-Benz CLA 250', 'Mitsubishi Pajero',\n",
       "       'Mercedes-Benz C 350', 'Lexus GS 350', 'Mercedes-Benz E 320',\n",
       "       'Toyota Yaris', 'Toyota Matrix', 'Isuzu NQR', 'IVM LT35',\n",
       "       'Hyundai Elantra', 'Porsche Cayenne', 'Toyota Prado',\n",
       "       'Hyundai Sonata', 'MINI Cooper', 'Toyota Hiace',\n",
       "       'Mercedes-Benz 350', 'Honda Odyssey', 'Mercedes-Benz E 550',\n",
       "       'Dodge Charger', 'GMC Terrain', 'Mercedes-Benz GLK 350',\n",
       "       'Mercedes-Benz C 250', 'Mercedes-Benz ML 430', 'Mack CH613',\n",
       "       'Honda Element', 'Mercedes-Benz GLC 300', 'Hyundai Santa Fe',\n",
       "       'Kia Cerato', 'Chevrolet Evanda', 'Iveco TRUCK', 'Acura ZDX',\n",
       "       'Mercedes-Benz 450', 'Mercedes-Benz GLA 250',\n",
       "       'Mercedes-Benz CLS 500', 'Scania P94 FLATBED', 'Nissan Versa',\n",
       "       'Ford F 150', 'Mercedes-Benz GLE 43 AMG', 'Volkswagen Golf',\n",
       "       'Mercedes-Benz 320', 'Honda Ridgeline', 'Mercedes-Benz S 450',\n",
       "       'Mercedes-Benz 300', 'Kia Rio', 'BMW 740', 'Ford Edge',\n",
       "       'Toyota Dyna', 'Volvo FL6', 'Toyota Coaster', 'GAC Gonow Other',\n",
       "       'IVECO EUROTECH 7.50E-16', 'DAF FA 55. 180', 'Scania TRACTOR HEAD',\n",
       "       'Nissan Xterra', 'Mercedes-Benz ML 320', 'Mercedes-Benz ATEGO',\n",
       "       'Ford Focus', 'Mercedes-Benz 220', 'Man Truck 18.44', 'BMW 730',\n",
       "       'Peugeot 607', 'BMW 528', 'Volvo XC60', 'Mercedes-Benz E 200',\n",
       "       'Volkswagen Passat', 'Volkswagen Sharan', 'Lexus GX 470',\n",
       "       'Nissan Quest', 'Nissan Maxima', 'Lexus ES 300', 'Mazda Tribute',\n",
       "       'Ford Fusion', 'Acura RDX', 'Peugeot 206',\n",
       "       'Mercedes-Benz G 63 AMG', 'Toyota Hilux', 'Kia Stinger',\n",
       "       'Volkswagen Tiguan', 'Acura TL', 'Porsche Panamera',\n",
       "       'Rolls-Royce Ghost', 'BMW 745', 'BMW 335', 'Volkswagen Jetta',\n",
       "       'Mack R-686ST', 'Man Diesel 19.314 FILT-N', 'Toyota Solara',\n",
       "       'Kia Soul', 'Mercedes-Benz C 450 AMG', 'Mack CXN613',\n",
       "       'Nissan Murano', 'Chevrolet Traverse', 'Volkswagen T4 Caravelle',\n",
       "       'MAN-VOLKSWAGEN FLATBED', 'Nissan Frontier', 'Nissan X-Trail',\n",
       "       'Mercedes-Benz C 180', 'Infiniti M35', 'Nissan Sentra',\n",
       "       'Jeep Cherokee', 'Toyota DYNA 200', 'Nissan Rogue',\n",
       "       'Land Rover Range Rover Velar', 'ALPINA B3', 'DAF 45', 'Mazda 323',\n",
       "       'Volkswagen T6 other', 'Bentley Arnage', 'Mazda 6', 'Infiniti FX',\n",
       "       'Ford Expedition', 'Mercedes-Benz 814', 'Kia Picanto',\n",
       "       'Toyota Tundra', 'JMC Vigus', 'Infiniti QX80', 'Volvo FH12',\n",
       "       'Mercedes-Benz/52', 'Volkswagen Touareg', 'Porsche Macan',\n",
       "       'Peugeot 308', 'Nissan INFINITI M90.150/2',\n",
       "       'MINI Cooper Countryman', 'Lexus ES 330', 'Honda Insight',\n",
       "       'Toyota Vitz', 'Audi S6', 'Isuzu CABSTER',\n",
       "       'Mercedes-Benz C 63 AMG', 'Mercedes-Benz SL 400',\n",
       "       'Volkswagen 17.22', 'Man BOCKMANN', 'DAF CF'], dtype=object)"
      ]
     },
     "execution_count": 5,
     "metadata": {},
     "output_type": "execute_result"
    }
   ],
   "source": [
    "# title 요소 확인\n",
    "train_df.title.unique()"
   ]
  },
  {
   "cell_type": "markdown",
   "id": "e95d529f",
   "metadata": {},
   "source": [
    "- 분석\n",
    "    - 학습 데이터에 포함되지 않은 기종을 어떻게 처리할지 고민\n",
    "    - 같은 회사의 차량이라도 현대의 아반떼, 제네시스처럼 기종에 따라 가격이 천차만별"
   ]
  },
  {
   "cell_type": "code",
   "execution_count": 38,
   "id": "2c25dd1e",
   "metadata": {},
   "outputs": [],
   "source": [
    "# 브랜드 파생변수 생성\n",
    "train_df['brand'] = train_df['title'].apply(lambda x : x.split()[0]) # 브랜드 생성\n",
    "test_df['brand'] = test_df['title'].apply(lambda x : x.split()[0])"
   ]
  },
  {
   "cell_type": "code",
   "execution_count": 39,
   "id": "bf07d36d",
   "metadata": {},
   "outputs": [
    {
     "data": {
      "text/plain": [
       "array(['Toyota', 'Land', 'Lexus', 'Pontiac', 'Ford', 'Honda', 'Volvo',\n",
       "       'BMW', 'Infiniti', 'Mercedes-Benz', 'Hyundai', 'Jaguar',\n",
       "       'Mitsubishi', 'Nissan', 'Mack', 'Chevrolet', 'Mazda', 'Lincoln',\n",
       "       'Kia', 'Volkswagen', 'Acura', 'DAF', 'Man', 'Isuzu', 'IVM',\n",
       "       'Porsche', 'MINI', 'Dodge', 'GMC', 'Iveco', 'Scania', 'GAC',\n",
       "       'IVECO', 'Peugeot', 'Rolls-Royce', 'MAN-VOLKSWAGEN', 'Jeep',\n",
       "       'ALPINA', 'Bentley', 'JMC', 'Mercedes-Benz/52', 'Audi'],\n",
       "      dtype=object)"
      ]
     },
     "execution_count": 39,
     "metadata": {},
     "output_type": "execute_result"
    }
   ],
   "source": [
    "# train의 브랜드 요소 확인\n",
    "train_df.brand.unique()"
   ]
  },
  {
   "cell_type": "code",
   "execution_count": 40,
   "id": "89a7b0eb",
   "metadata": {},
   "outputs": [
    {
     "data": {
      "text/plain": [
       "array(['Mercedes-Benz', 'Honda', 'Toyota', 'Iveco', 'Lexus', 'Nissan',\n",
       "       'Volkswagen', 'Jeep', 'Ford', 'BMW', 'Mack', 'Land', 'Hyundai',\n",
       "       'Peugeot', 'Volvo', 'Infiniti', 'Acura', 'Man', 'Fiat', 'MINI',\n",
       "       'DAF', 'Mazda', 'Porsche', 'Mitsubishi', 'Chevrolet', 'Kia',\n",
       "       'Pontiac', 'Rolls-Royce'], dtype=object)"
      ]
     },
     "execution_count": 40,
     "metadata": {},
     "output_type": "execute_result"
    }
   ],
   "source": [
    "# test의 브랜드 요소 확인\n",
    "test_df.brand.unique()"
   ]
  },
  {
   "cell_type": "code",
   "execution_count": 41,
   "id": "7d675190",
   "metadata": {},
   "outputs": [
    {
     "name": "stdout",
     "output_type": "stream",
     "text": [
      "['Fiat']\n"
     ]
    }
   ],
   "source": [
    "# train과 test의 중복되지않는 브랜드 확인 -> ['Fiat']\n",
    "not_dup_brand = []\n",
    "\n",
    "for i in test_df.brand.unique():\n",
    "    if i not in train_df.brand.unique():\n",
    "        not_dup_brand.append(i)\n",
    "\n",
    "print(not_dup_brand)"
   ]
  },
  {
   "cell_type": "markdown",
   "id": "4826acf9",
   "metadata": {},
   "source": [
    "- 분석\n",
    "    - train data와 test data의 중복되지않는 브랜드 Fiat를 처리해야함\n",
    "        - 비슷한 가격대의 브랜드로 바꾸기\n",
    "    - 비슷한 가격대의 브랜드는 통합해도 괜찮아 보임."
   ]
  },
  {
   "cell_type": "markdown",
   "id": "78ba19b7",
   "metadata": {},
   "source": [
    "2. location 확인"
   ]
  },
  {
   "cell_type": "code",
   "execution_count": 45,
   "id": "efb7a342",
   "metadata": {},
   "outputs": [],
   "source": [
    "# 2-1. location 처리\n",
    "def clean_location(x):\n",
    "    '''location 정리 함수'''\n",
    "    x = x.replace(' ', '')\n",
    "    x = x.replace('State', '')\n",
    "    return x\n",
    "\n",
    "train_df.location = train_df.location.apply(clean_location)\n",
    "test_df.location = test_df.location.apply(clean_location)"
   ]
  },
  {
   "cell_type": "code",
   "execution_count": 46,
   "id": "14f1a83c",
   "metadata": {},
   "outputs": [
    {
     "data": {
      "text/plain": [
       "array(['Lagos', 'Abuja', 'Ogun', 'FCT', 'Accra', 'other', 'Abia',\n",
       "       'Adamawa'], dtype=object)"
      ]
     },
     "execution_count": 46,
     "metadata": {},
     "output_type": "execute_result"
    }
   ],
   "source": [
    "# location 요소 확인\n",
    "train_df.location.unique()"
   ]
  },
  {
   "cell_type": "code",
   "execution_count": 47,
   "id": "67f92a0e",
   "metadata": {},
   "outputs": [
    {
     "name": "stdout",
     "output_type": "stream",
     "text": [
      "['Mushin', 'Arepoogunstate']\n"
     ]
    }
   ],
   "source": [
    "# train과 test 데이터에 중복되지 않은 location 확인 => ['Mushin', 'Arepoogunstate']\n",
    "not_dup_location = []\n",
    "\n",
    "for i in test_df.location.unique():\n",
    "    if i not in train_df.location.unique():\n",
    "        not_dup_location.append(i)\n",
    "\n",
    "print(not_dup_location)"
   ]
  },
  {
   "cell_type": "markdown",
   "id": "cefff660",
   "metadata": {},
   "source": [
    "- 같은 지명이나 공백으로 나뉘어진 데이터 존재\n",
    "    - 'Lagos' 와 'Lagos '\n",
    "    - 'Abuja' 와 'Abuja '\n",
    "- 같은 지역이나 이름만 다르게 되어있는 데이터 존재\n",
    "    - 'Abia State' 와 'Abia'\n",
    "    - 'Ogun State' 와 'Ogun'\n",
    "    - 'Lagos State' 와 'Lagos'\n",
    "- train과 test의 중복되지않은 location을 어떻게 처리할지 고민"
   ]
  },
  {
   "cell_type": "markdown",
   "id": "458705dd",
   "metadata": {},
   "source": [
    "3. isimported 확인"
   ]
  },
  {
   "cell_type": "code",
   "execution_count": 8,
   "id": "bd6cad05",
   "metadata": {},
   "outputs": [
    {
     "data": {
      "text/plain": [
       "array(['Foreign Used', 'New ', 'Locally used'], dtype=object)"
      ]
     },
     "execution_count": 8,
     "metadata": {},
     "output_type": "execute_result"
    }
   ],
   "source": [
    "# isimported 요소 확인\n",
    "train_df.isimported.unique()"
   ]
  },
  {
   "cell_type": "markdown",
   "id": "f00f9dd3",
   "metadata": {},
   "source": [
    "- 분석\n",
    "    - 별도의 전처리가 필요없어 보임"
   ]
  },
  {
   "cell_type": "markdown",
   "id": "d7df3254",
   "metadata": {},
   "source": [
    "4. engine 확인"
   ]
  },
  {
   "cell_type": "code",
   "execution_count": 9,
   "id": "9aaddc3f",
   "metadata": {},
   "outputs": [
    {
     "data": {
      "text/plain": [
       "array(['4-cylinder(I4)', '6-cylinder(V6)', '8-cylinder(V8)',\n",
       "       '6-cylinder(I6)', '4-cylinder(H4)', '5-cylinder(I5)',\n",
       "       '3-cylinder(I3)', '2-cylinder(I2)'], dtype=object)"
      ]
     },
     "execution_count": 9,
     "metadata": {},
     "output_type": "execute_result"
    }
   ],
   "source": [
    "# engine 요소 확인\n",
    "train_df.engine.unique()"
   ]
  },
  {
   "cell_type": "code",
   "execution_count": 42,
   "id": "f572ac4c",
   "metadata": {},
   "outputs": [
    {
     "name": "stdout",
     "output_type": "stream",
     "text": [
      "['12-cylinder(V12)']\n"
     ]
    }
   ],
   "source": [
    "# train과 test 데이터에 중복되지않는 엔진 -> 처리 필요\n",
    "not_dup_engine = []\n",
    "\n",
    "for i in test_df.engine.unique():\n",
    "    if i not in train_df.engine.unique():\n",
    "        not_dup_engine.append(i)\n",
    "\n",
    "print(not_dup_engine)"
   ]
  },
  {
   "cell_type": "markdown",
   "id": "4cf0f6a5",
   "metadata": {},
   "source": [
    "- 분석결과\n",
    "    - 학습 데이터에 포함되지 않은 엔진을 어떻게 처리할지 고민"
   ]
  },
  {
   "cell_type": "markdown",
   "id": "911a478d",
   "metadata": {},
   "source": [
    "5. transmission 확인"
   ]
  },
  {
   "cell_type": "code",
   "execution_count": 10,
   "id": "39e6d04d",
   "metadata": {},
   "outputs": [
    {
     "data": {
      "text/plain": [
       "array(['automatic', 'manual'], dtype=object)"
      ]
     },
     "execution_count": 10,
     "metadata": {},
     "output_type": "execute_result"
    }
   ],
   "source": [
    "# 5. transmission 확인\n",
    "train_df.transmission.unique()"
   ]
  },
  {
   "cell_type": "markdown",
   "id": "8b7b2717",
   "metadata": {},
   "source": [
    "- 분석\n",
    "    - 별도의 전처리가 필요없어 보임"
   ]
  },
  {
   "cell_type": "code",
   "execution_count": 11,
   "id": "48963362",
   "metadata": {},
   "outputs": [
    {
     "data": {
      "text/plain": [
       "array(['petrol', 'diesel'], dtype=object)"
      ]
     },
     "execution_count": 11,
     "metadata": {},
     "output_type": "execute_result"
    }
   ],
   "source": [
    "# 6. fuel 확인\n",
    "train_df.fuel.unique()"
   ]
  },
  {
   "cell_type": "markdown",
   "id": "0e2aa780",
   "metadata": {},
   "source": [
    "- 분석\n",
    "    - 별도의 전처리가 필요없어 보임"
   ]
  },
  {
   "cell_type": "markdown",
   "id": "834b56ae",
   "metadata": {},
   "source": [
    "8. year 확인"
   ]
  },
  {
   "cell_type": "code",
   "execution_count": 30,
   "id": "4a57482e",
   "metadata": {},
   "outputs": [
    {
     "data": {
      "text/plain": [
       "array([2016, 2019, 2012, 2007, 2010, 2004, 2008, 2018, 2009, 2013, 1996,\n",
       "       2014, 2002, 2006, 2017, 1998, 2011, 2005, 2000, 2015, 2001, 1995,\n",
       "       2003, 1999, 1985, 2020, 1994, 1991, 1218, 1982, 1997, 1217, 1980],\n",
       "      dtype=int64)"
      ]
     },
     "execution_count": 30,
     "metadata": {},
     "output_type": "execute_result"
    }
   ],
   "source": [
    "# year 요소 확인\n",
    "train_df.year.unique()"
   ]
  },
  {
   "cell_type": "markdown",
   "id": "935f3d76",
   "metadata": {},
   "source": [
    "- 분석결과\n",
    "    - 1218, 1217 이라는 이상한 수치가 존재 -> 처리\n",
    "    - 생산연도가 2022년을 넘어가거나 1900년보다 이전이면 주행거리와 모델로 연도를 유추한다. (별도의 모델 생성)"
   ]
  },
  {
   "cell_type": "markdown",
   "id": "0c55d131",
   "metadata": {},
   "source": [
    "## 3. 전처리 함수"
   ]
  },
  {
   "cell_type": "markdown",
   "id": "4517552f",
   "metadata": {},
   "source": [
    "### 3-1) 불필요 속성 제거"
   ]
  },
  {
   "cell_type": "code",
   "execution_count": null,
   "id": "b0ffc507",
   "metadata": {},
   "outputs": [],
   "source": []
  }
 ],
 "metadata": {
  "kernelspec": {
   "display_name": "Python 3 (ipykernel)",
   "language": "python",
   "name": "python3"
  },
  "language_info": {
   "codemirror_mode": {
    "name": "ipython",
    "version": 3
   },
   "file_extension": ".py",
   "mimetype": "text/x-python",
   "name": "python",
   "nbconvert_exporter": "python",
   "pygments_lexer": "ipython3",
   "version": "3.9.7"
  }
 },
 "nbformat": 4,
 "nbformat_minor": 5
}
